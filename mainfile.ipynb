{
 "cells": [
  {
   "cell_type": "code",
   "execution_count": 26,
   "metadata": {},
   "outputs": [],
   "source": [
    "import time\n",
    "import numpy as np\n",
    "import pandas as pd\n",
    "import json\n",
    "import matplotlib.pyplot as plt\n",
    "import boto3\n",
    "import sagemaker \n",
    "from sagemaker import get_execution_role"
   ]
  },
  {
   "cell_type": "code",
   "execution_count": 27,
   "metadata": {},
   "outputs": [],
   "source": [
    "import boto3\n",
    "forecast = boto3.client('forecast')"
   ]
  },
  {
   "cell_type": "code",
   "execution_count": 28,
   "metadata": {},
   "outputs": [
    {
     "name": "stdout",
     "output_type": "stream",
     "text": [
      "Looking in indexes: https://pypi.org/simple, https://pip.repos.neuron.amazonaws.com\n",
      "Requirement already satisfied: boto3 in /home/ec2-user/anaconda3/envs/python3/lib/python3.10/site-packages (1.26.71)\n",
      "Requirement already satisfied: jmespath<2.0.0,>=0.7.1 in /home/ec2-user/anaconda3/envs/python3/lib/python3.10/site-packages (from boto3) (1.0.1)\n",
      "Requirement already satisfied: botocore<1.30.0,>=1.29.71 in /home/ec2-user/anaconda3/envs/python3/lib/python3.10/site-packages (from boto3) (1.29.71)\n",
      "Requirement already satisfied: s3transfer<0.7.0,>=0.6.0 in /home/ec2-user/anaconda3/envs/python3/lib/python3.10/site-packages (from boto3) (0.6.0)\n",
      "Requirement already satisfied: python-dateutil<3.0.0,>=2.1 in /home/ec2-user/anaconda3/envs/python3/lib/python3.10/site-packages (from botocore<1.30.0,>=1.29.71->boto3) (2.8.2)\n",
      "Requirement already satisfied: urllib3<1.27,>=1.25.4 in /home/ec2-user/anaconda3/envs/python3/lib/python3.10/site-packages (from botocore<1.30.0,>=1.29.71->boto3) (1.26.8)\n",
      "Requirement already satisfied: six>=1.5 in /home/ec2-user/anaconda3/envs/python3/lib/python3.10/site-packages (from python-dateutil<3.0.0,>=2.1->botocore<1.30.0,>=1.29.71->boto3) (1.16.0)\n",
      "Note: you may need to restart the kernel to use updated packages.\n"
     ]
    }
   ],
   "source": [
    "pip install boto3"
   ]
  },
  {
   "cell_type": "code",
   "execution_count": 29,
   "metadata": {},
   "outputs": [
    {
     "name": "stdout",
     "output_type": "stream",
     "text": [
      "Looking in indexes: https://pypi.org/simple, https://pip.repos.neuron.amazonaws.com\n",
      "Requirement already satisfied: boto3[crt] in /home/ec2-user/anaconda3/envs/python3/lib/python3.10/site-packages (1.26.71)\n",
      "Requirement already satisfied: botocore<1.30.0,>=1.29.71 in /home/ec2-user/anaconda3/envs/python3/lib/python3.10/site-packages (from boto3[crt]) (1.29.71)\n",
      "Requirement already satisfied: s3transfer<0.7.0,>=0.6.0 in /home/ec2-user/anaconda3/envs/python3/lib/python3.10/site-packages (from boto3[crt]) (0.6.0)\n",
      "Requirement already satisfied: jmespath<2.0.0,>=0.7.1 in /home/ec2-user/anaconda3/envs/python3/lib/python3.10/site-packages (from boto3[crt]) (1.0.1)\n",
      "Requirement already satisfied: python-dateutil<3.0.0,>=2.1 in /home/ec2-user/anaconda3/envs/python3/lib/python3.10/site-packages (from botocore<1.30.0,>=1.29.71->boto3[crt]) (2.8.2)\n",
      "Requirement already satisfied: urllib3<1.27,>=1.25.4 in /home/ec2-user/anaconda3/envs/python3/lib/python3.10/site-packages (from botocore<1.30.0,>=1.29.71->boto3[crt]) (1.26.8)\n",
      "Requirement already satisfied: awscrt==0.16.9 in /home/ec2-user/anaconda3/envs/python3/lib/python3.10/site-packages (from botocore<1.30.0,>=1.29.71->boto3[crt]) (0.16.9)\n",
      "Requirement already satisfied: six>=1.5 in /home/ec2-user/anaconda3/envs/python3/lib/python3.10/site-packages (from python-dateutil<3.0.0,>=2.1->botocore<1.30.0,>=1.29.71->boto3[crt]) (1.16.0)\n",
      "Note: you may need to restart the kernel to use updated packages.\n"
     ]
    }
   ],
   "source": [
    "pip install boto3[crt]"
   ]
  },
  {
   "cell_type": "code",
   "execution_count": 30,
   "metadata": {},
   "outputs": [
    {
     "name": "stdout",
     "output_type": "stream",
     "text": [
      "ethpricedataset\n"
     ]
    }
   ],
   "source": [
    "import boto3\n",
    "s3 = boto3.resource('s3')\n",
    "for bucket in s3.buckets.all():\n",
    "    print(bucket.name)\n",
    "\n",
    "sqs = boto3.resource('sqs')\n"
   ]
  },
  {
   "cell_type": "code",
   "execution_count": 55,
   "metadata": {},
   "outputs": [],
   "source": [
    "import boto3\n",
    "client = boto3.client('forecast')\n",
    "ds_response = client.create_dataset(\n",
    "    DatasetName = 'geminidataset',\n",
    "    Domain='CUSTOM',\n",
    "    DatasetType = 'TARGET_TIME_SERIES',\n",
    "    DataFrequency ='D',\n",
    "    Schema={\n",
    "        'Attributes':[\n",
    "            {\n",
    "                'AttributeName': 'item_id',\n",
    "                'AttributeType': 'string'\n",
    "            },\n",
    "            {\n",
    "                'AttributeName': 'timestamp',\n",
    "                'AttributeType': 'timestamp'\n",
    "            },\n",
    "            {\n",
    "                'AttributeName':'target_value',\n",
    "                'AttributeType':'float'\n",
    "            },\n",
    "        ]\n",
    "    }\n",
    ")"
   ]
  },
  {
   "cell_type": "code",
   "execution_count": 56,
   "metadata": {},
   "outputs": [
    {
     "name": "stdout",
     "output_type": "stream",
     "text": [
      "arn:aws:forecast:ap-south-1:950788233543:dataset/geminidataset\n"
     ]
    }
   ],
   "source": [
    "dataset_arn= ds_response['DatasetArn']\n",
    "print(dataset_arn)"
   ]
  },
  {
   "cell_type": "code",
   "execution_count": 58,
   "metadata": {},
   "outputs": [],
   "source": [
    "dsgrp_response = client.create_dataset_group(\n",
    "    DatasetGroupName='forecastgrp1',\n",
    "    Domain='CUSTOM',\n",
    "    DatasetArns=[\n",
    "        dataset_arn,\n",
    "    ],\n",
    ")"
   ]
  },
  {
   "cell_type": "code",
   "execution_count": 59,
   "metadata": {},
   "outputs": [
    {
     "name": "stdout",
     "output_type": "stream",
     "text": [
      "{'DatasetGroupArn': 'arn:aws:forecast:ap-south-1:950788233543:dataset-group/forecastgrp1', 'ResponseMetadata': {'RequestId': '2f50f345-b469-483c-aa10-59784a4b5070', 'HTTPStatusCode': 200, 'HTTPHeaders': {'date': 'Sun, 09 Apr 2023 17:00:53 GMT', 'content-type': 'application/x-amz-json-1.1', 'content-length': '89', 'connection': 'keep-alive', 'x-amzn-requestid': '2f50f345-b469-483c-aa10-59784a4b5070'}, 'RetryAttempts': 0}}\n"
     ]
    }
   ],
   "source": [
    "print(dsgrp_response)"
   ]
  },
  {
   "cell_type": "code",
   "execution_count": 66,
   "metadata": {},
   "outputs": [],
   "source": [
    "dsgrp_arn='arn:aws:forecast:ap-south-1:950788233543:dataset-group/forecastgrp1'"
   ]
  },
  {
   "cell_type": "code",
   "execution_count": 69,
   "metadata": {},
   "outputs": [],
   "source": [
    "forecastHorizon=24\n",
    "create_predictor_response=client.create_predictor(PredictorName=\"forecastethpredic\", \n",
    "                                                  ForecastHorizon=forecastHorizon,\n",
    "                                                  PerformAutoML=True,\n",
    "                                                  PerformHPO=False,\n",
    "                                                  EvaluationParameters= {\"NumberOfBacktestWindows\": 1, \n",
    "                                                                         \"BackTestWindowOffset\": 24}, \n",
    "                                                  InputDataConfig= {\"DatasetGroupArn\": dsgrp_arn},\n",
    "                                                  FeaturizationConfig= {\"ForecastFrequency\": \"D\", \n",
    "                                                                        \"Featurizations\": \n",
    "                                                                        [\n",
    "                                                                          {\"AttributeName\": \"target_value\", \n",
    "                                                                           \"FeaturizationPipeline\": \n",
    "                                                                            [\n",
    "                                                                              {\"FeaturizationMethodName\": \"filling\", \n",
    "                                                                               \"FeaturizationMethodParameters\": \n",
    "                                                                                {\"frontfill\": \"none\", \n",
    "                                                                                 \"middlefill\": \"zero\", \n",
    "                                                                                 \"backfill\": \"zero\"}\n",
    "                                                                              }\n",
    "                                                                            ]\n",
    "                                                                          }\n",
    "                                                                        ]\n",
    "                                                                       }\n",
    "                                                 )"
   ]
  },
  {
   "cell_type": "code",
   "execution_count": 70,
   "metadata": {},
   "outputs": [
    {
     "name": "stdout",
     "output_type": "stream",
     "text": [
      "arn:aws:forecast:ap-south-1:950788233543:predictor/forecastethpredic\n"
     ]
    }
   ],
   "source": [
    "predictorArn=create_predictor_response['PredictorArn']\n",
    "print(predictorArn)"
   ]
  },
  {
   "cell_type": "code",
   "execution_count": 71,
   "metadata": {},
   "outputs": [
    {
     "name": "stdout",
     "output_type": "stream",
     "text": [
      "At least one Predictor build is still in progress\n",
      "At least one Predictor build is still in progress\n",
      "At least one Predictor build is still in progress\n",
      "At least one Predictor build is still in progress\n",
      "At least one Predictor build is still in progress\n",
      "At least one Predictor build is still in progress\n",
      "At least one Predictor build is still in progress\n",
      "At least one Predictor build is still in progress\n",
      "At least one Predictor build is still in progress\n",
      "At least one Predictor build is still in progress\n",
      "At least one Predictor build is still in progress\n",
      "At least one Predictor build is still in progress\n",
      "At least one Predictor build is still in progress\n",
      "At least one Predictor build is still in progress\n",
      "At least one Predictor build is still in progress\n",
      "At least one Predictor build is still in progress\n",
      "At least one Predictor build is still in progress\n",
      "At least one Predictor build is still in progress\n",
      "At least one Predictor build is still in progress\n",
      "At least one Predictor build is still in progress\n",
      "At least one Predictor build is still in progress\n",
      "At least one Predictor build is still in progress\n",
      "At least one Predictor build is still in progress\n",
      "At least one Predictor build is still in progress\n",
      "At least one Predictor build is still in progress\n",
      "At least one Predictor build is still in progress\n",
      "At least one Predictor build is still in progress\n",
      "At least one Predictor build is still in progress\n",
      "At least one Predictor build is still in progress\n",
      "At least one Predictor build is still in progress\n",
      "At least one Predictor build is still in progress\n",
      "At least one Predictor build is still in progress\n",
      "At least one Predictor build is still in progress\n",
      "At least one Predictor build is still in progress\n",
      "At least one Predictor build is still in progress\n",
      "At least one Predictor build is still in progress\n",
      "At least one Predictor build is still in progress\n",
      "At least one Predictor build is still in progress\n",
      "At least one Predictor build is still in progress\n",
      "At least one Predictor build is still in progress\n",
      "At least one Predictor build is still in progress\n",
      "At least one Predictor build is still in progress\n",
      "At least one Predictor build is still in progress\n",
      "At least one Predictor build is still in progress\n",
      "At least one Predictor build is still in progress\n",
      "At least one Predictor build is still in progress\n",
      "At least one Predictor build is still in progress\n",
      "At least one Predictor build is still in progress\n",
      "At least one Predictor build is still in progress\n",
      "At least one Predictor build is still in progress\n",
      "At least one Predictor build is still in progress\n",
      "Build succeeded for arn:aws:forecast:ap-south-1:950788233543:predictor/forecastethpredic\n"
     ]
    }
   ],
   "source": [
    "predictorArn=create_predictor_response['PredictorArn']\n",
    "in_progress_predictors = [\n",
    "     create_predictor_response['PredictorArn']\n",
    "]\n",
    "max_time = time.time() + 3*60*60 # 3 hours\n",
    "while time.time() < max_time:\n",
    "    for predictor_arn in in_progress_predictors:\n",
    "        predictor_response = client.describe_predictor(\n",
    "            PredictorArn = predictorArn\n",
    "        )\n",
    "        status = predictor_response[\"Status\"]\n",
    "        \n",
    "        if status == \"ACTIVE\":\n",
    "            print(\"Build succeeded for {}\".format(predictorArn))\n",
    "            in_progress_predictors.remove(predictorArn)\n",
    "        elif status == \"CREATE FAILED\":\n",
    "            print(\"Build failed for {}\".format(predictorArn))\n",
    "            in_progress_predictors.remove(predictorArn)\n",
    "    \n",
    "    if len(in_progress_predictors) <= 0:\n",
    "        break\n",
    "    else:\n",
    "        print(\"At least one Predictor build is still in progress\")\n",
    "        \n",
    "    time.sleep(60)"
   ]
  },
  {
   "cell_type": "code",
   "execution_count": 72,
   "metadata": {
    "scrolled": false
   },
   "outputs": [
    {
     "data": {
      "text/plain": [
       "{'PredictorEvaluationResults': [{'AlgorithmArn': 'arn:aws:forecast:::algorithm/Deep_AR_Plus',\n",
       "   'TestWindows': [{'EvaluationType': 'SUMMARY',\n",
       "     'Metrics': {'RMSE': 1836.0346906138257,\n",
       "      'WeightedQuantileLosses': [{'Quantile': 0.9,\n",
       "        'LossValue': 0.033736219007727386},\n",
       "       {'Quantile': 0.5, 'LossValue': 0.03487298731093453},\n",
       "       {'Quantile': 0.1, 'LossValue': 0.021560980891647232}],\n",
       "      'ErrorMetrics': [{'ForecastType': 'mean',\n",
       "        'WAPE': 0.0376606451532956,\n",
       "        'RMSE': 1836.0346906138257,\n",
       "        'MASE': 2.3596044528574764,\n",
       "        'MAPE': 0.03849646385247681}],\n",
       "      'AverageWeightedQuantileLoss': 0.03005672907010305}},\n",
       "    {'TestWindowStart': datetime.datetime(2023, 2, 10, 23, 0, tzinfo=tzlocal()),\n",
       "     'TestWindowEnd': datetime.datetime(2023, 3, 6, 23, 0, tzinfo=tzlocal()),\n",
       "     'ItemCount': 1,\n",
       "     'EvaluationType': 'COMPUTED',\n",
       "     'Metrics': {'RMSE': 1836.0346906138257,\n",
       "      'WeightedQuantileLosses': [{'Quantile': 0.9,\n",
       "        'LossValue': 0.033736219007727386},\n",
       "       {'Quantile': 0.5, 'LossValue': 0.03487298731093453},\n",
       "       {'Quantile': 0.1, 'LossValue': 0.021560980891647232}],\n",
       "      'ErrorMetrics': [{'ForecastType': 'mean',\n",
       "        'WAPE': 0.0376606451532956,\n",
       "        'RMSE': 1836.0346906138257,\n",
       "        'MASE': 2.3596044528574764,\n",
       "        'MAPE': 0.03849646385247681}],\n",
       "      'AverageWeightedQuantileLoss': 0.03005672907010305}}]},\n",
       "  {'AlgorithmArn': 'arn:aws:forecast:::algorithm/CNN-QR',\n",
       "   'TestWindows': [{'EvaluationType': 'SUMMARY',\n",
       "     'Metrics': {'RMSE': 1729.9124325623097,\n",
       "      'WeightedQuantileLosses': [{'Quantile': 0.9,\n",
       "        'LossValue': 0.0357740053832986},\n",
       "       {'Quantile': 0.5, 'LossValue': 0.03789662815128366},\n",
       "       {'Quantile': 0.1, 'LossValue': 0.022058606353945662}],\n",
       "      'ErrorMetrics': [{'ForecastType': 'mean',\n",
       "        'WAPE': 0.03789662815128366,\n",
       "        'RMSE': 1729.9124325623097,\n",
       "        'MASE': 2.37438982179061,\n",
       "        'MAPE': 0.037400560944072736}],\n",
       "      'AverageWeightedQuantileLoss': 0.0319097466295093}},\n",
       "    {'TestWindowStart': datetime.datetime(2023, 2, 10, 23, 0, tzinfo=tzlocal()),\n",
       "     'TestWindowEnd': datetime.datetime(2023, 3, 6, 23, 0, tzinfo=tzlocal()),\n",
       "     'ItemCount': 1,\n",
       "     'EvaluationType': 'COMPUTED',\n",
       "     'Metrics': {'RMSE': 1729.9124325623097,\n",
       "      'WeightedQuantileLosses': [{'Quantile': 0.9,\n",
       "        'LossValue': 0.0357740053832986},\n",
       "       {'Quantile': 0.5, 'LossValue': 0.03789662815128366},\n",
       "       {'Quantile': 0.1, 'LossValue': 0.022058606353945662}],\n",
       "      'ErrorMetrics': [{'ForecastType': 'mean',\n",
       "        'WAPE': 0.03789662815128366,\n",
       "        'RMSE': 1729.9124325623097,\n",
       "        'MASE': 2.37438982179061,\n",
       "        'MAPE': 0.037400560944072736}],\n",
       "      'AverageWeightedQuantileLoss': 0.0319097466295093}}]},\n",
       "  {'AlgorithmArn': 'arn:aws:forecast:::algorithm/ETS',\n",
       "   'TestWindows': [{'EvaluationType': 'SUMMARY',\n",
       "     'Metrics': {'RMSE': 1536.8512197406833,\n",
       "      'WeightedQuantileLosses': [{'Quantile': 0.9,\n",
       "        'LossValue': 0.045476321534998636},\n",
       "       {'Quantile': 0.5, 'LossValue': 0.034968995172996925},\n",
       "       {'Quantile': 0.1, 'LossValue': 0.047706618951760246}],\n",
       "      'ErrorMetrics': [{'ForecastType': 'mean',\n",
       "        'WAPE': 0.034968995172996925,\n",
       "        'RMSE': 1536.8512197406833,\n",
       "        'MASE': 2.1909607864201615,\n",
       "        'MAPE': 0.03504510335335428}],\n",
       "      'AverageWeightedQuantileLoss': 0.042717311886585264}},\n",
       "    {'TestWindowStart': datetime.datetime(2023, 2, 10, 23, 0, tzinfo=tzlocal()),\n",
       "     'TestWindowEnd': datetime.datetime(2023, 3, 6, 23, 0, tzinfo=tzlocal()),\n",
       "     'ItemCount': 1,\n",
       "     'EvaluationType': 'COMPUTED',\n",
       "     'Metrics': {'RMSE': 1536.8512197406833,\n",
       "      'WeightedQuantileLosses': [{'Quantile': 0.9,\n",
       "        'LossValue': 0.045476321534998636},\n",
       "       {'Quantile': 0.5, 'LossValue': 0.034968995172996925},\n",
       "       {'Quantile': 0.1, 'LossValue': 0.047706618951760246}],\n",
       "      'ErrorMetrics': [{'ForecastType': 'mean',\n",
       "        'WAPE': 0.034968995172996925,\n",
       "        'RMSE': 1536.8512197406833,\n",
       "        'MASE': 2.1909607864201615,\n",
       "        'MAPE': 0.03504510335335428}],\n",
       "      'AverageWeightedQuantileLoss': 0.042717311886585264}}]},\n",
       "  {'AlgorithmArn': 'arn:aws:forecast:::algorithm/ARIMA',\n",
       "   'TestWindows': [{'EvaluationType': 'SUMMARY',\n",
       "     'Metrics': {'RMSE': 1466.9874676267839,\n",
       "      'WeightedQuantileLosses': [{'Quantile': 0.9,\n",
       "        'LossValue': 0.052537222696437645},\n",
       "       {'Quantile': 0.5, 'LossValue': 0.033112062822123},\n",
       "       {'Quantile': 0.1, 'LossValue': 0.05547409095379901}],\n",
       "      'ErrorMetrics': [{'ForecastType': 'mean',\n",
       "        'WAPE': 0.033112062822123,\n",
       "        'RMSE': 1466.9874676267839,\n",
       "        'MASE': 2.0746158373110304,\n",
       "        'MAPE': 0.03307659524718467}],\n",
       "      'AverageWeightedQuantileLoss': 0.047041125490786546}},\n",
       "    {'TestWindowStart': datetime.datetime(2023, 2, 10, 23, 0, tzinfo=tzlocal()),\n",
       "     'TestWindowEnd': datetime.datetime(2023, 3, 6, 23, 0, tzinfo=tzlocal()),\n",
       "     'ItemCount': 1,\n",
       "     'EvaluationType': 'COMPUTED',\n",
       "     'Metrics': {'RMSE': 1466.9874676267839,\n",
       "      'WeightedQuantileLosses': [{'Quantile': 0.9,\n",
       "        'LossValue': 0.052537222696437645},\n",
       "       {'Quantile': 0.5, 'LossValue': 0.033112062822123},\n",
       "       {'Quantile': 0.1, 'LossValue': 0.05547409095379901}],\n",
       "      'ErrorMetrics': [{'ForecastType': 'mean',\n",
       "        'WAPE': 0.033112062822123,\n",
       "        'RMSE': 1466.9874676267839,\n",
       "        'MASE': 2.0746158373110304,\n",
       "        'MAPE': 0.03307659524718467}],\n",
       "      'AverageWeightedQuantileLoss': 0.047041125490786546}}]},\n",
       "  {'AlgorithmArn': 'arn:aws:forecast:::algorithm/NPTS',\n",
       "   'TestWindows': [{'EvaluationType': 'SUMMARY',\n",
       "     'Metrics': {'RMSE': 4538.211825979437,\n",
       "      'WeightedQuantileLosses': [{'Quantile': 0.9,\n",
       "        'LossValue': 0.23685242464789324},\n",
       "       {'Quantile': 0.5, 'LossValue': 0.07695549713518808},\n",
       "       {'Quantile': 0.1, 'LossValue': 0.16957730041061606}],\n",
       "      'ErrorMetrics': [{'ForecastType': 'mean',\n",
       "        'WAPE': 0.09542763644871426,\n",
       "        'RMSE': 4538.211825979437,\n",
       "        'MASE': 5.978959600227305,\n",
       "        'MAPE': 0.09695499350303434}],\n",
       "      'AverageWeightedQuantileLoss': 0.16112840739789913}},\n",
       "    {'TestWindowStart': datetime.datetime(2023, 2, 10, 23, 0, tzinfo=tzlocal()),\n",
       "     'TestWindowEnd': datetime.datetime(2023, 3, 6, 23, 0, tzinfo=tzlocal()),\n",
       "     'ItemCount': 1,\n",
       "     'EvaluationType': 'COMPUTED',\n",
       "     'Metrics': {'RMSE': 4538.211825979437,\n",
       "      'WeightedQuantileLosses': [{'Quantile': 0.9,\n",
       "        'LossValue': 0.23685242464789324},\n",
       "       {'Quantile': 0.5, 'LossValue': 0.07695549713518808},\n",
       "       {'Quantile': 0.1, 'LossValue': 0.16957730041061606}],\n",
       "      'ErrorMetrics': [{'ForecastType': 'mean',\n",
       "        'WAPE': 0.09542763644871426,\n",
       "        'RMSE': 4538.211825979437,\n",
       "        'MASE': 5.978959600227305,\n",
       "        'MAPE': 0.09695499350303434}],\n",
       "      'AverageWeightedQuantileLoss': 0.16112840739789913}}]},\n",
       "  {'AlgorithmArn': 'arn:aws:forecast:::algorithm/Prophet',\n",
       "   'TestWindows': [{'EvaluationType': 'SUMMARY',\n",
       "     'Metrics': {'RMSE': 20304.412500253093,\n",
       "      'WeightedQuantileLosses': [{'Quantile': 0.9,\n",
       "        'LossValue': 0.5429849586416383},\n",
       "       {'Quantile': 0.5, 'LossValue': 0.5206850579005724},\n",
       "       {'Quantile': 0.1, 'LossValue': 0.14652849366738385}],\n",
       "      'ErrorMetrics': [{'ForecastType': 'mean',\n",
       "        'WAPE': 0.51885694013893,\n",
       "        'RMSE': 20304.412500253093,\n",
       "        'MASE': 32.508661000479144,\n",
       "        'MAPE': 0.5176726059015193}],\n",
       "      'AverageWeightedQuantileLoss': 0.40339950340319825}},\n",
       "    {'TestWindowStart': datetime.datetime(2023, 2, 10, 23, 0, tzinfo=tzlocal()),\n",
       "     'TestWindowEnd': datetime.datetime(2023, 3, 6, 23, 0, tzinfo=tzlocal()),\n",
       "     'ItemCount': 1,\n",
       "     'EvaluationType': 'COMPUTED',\n",
       "     'Metrics': {'RMSE': 20304.412500253093,\n",
       "      'WeightedQuantileLosses': [{'Quantile': 0.9,\n",
       "        'LossValue': 0.5429849586416383},\n",
       "       {'Quantile': 0.5, 'LossValue': 0.5206850579005724},\n",
       "       {'Quantile': 0.1, 'LossValue': 0.14652849366738385}],\n",
       "      'ErrorMetrics': [{'ForecastType': 'mean',\n",
       "        'WAPE': 0.51885694013893,\n",
       "        'RMSE': 20304.412500253093,\n",
       "        'MASE': 32.508661000479144,\n",
       "        'MAPE': 0.5176726059015193}],\n",
       "      'AverageWeightedQuantileLoss': 0.40339950340319825}}]}],\n",
       " 'IsAutoPredictor': False,\n",
       " 'ResponseMetadata': {'RequestId': '4a159e1d-26b8-4048-9ec6-a7fbddc06d26',\n",
       "  'HTTPStatusCode': 200,\n",
       "  'HTTPHeaders': {'date': 'Sun, 09 Apr 2023 18:06:09 GMT',\n",
       "   'content-type': 'application/x-amz-json-1.1',\n",
       "   'content-length': '6151',\n",
       "   'connection': 'keep-alive',\n",
       "   'x-amzn-requestid': '4a159e1d-26b8-4048-9ec6-a7fbddc06d26'},\n",
       "  'RetryAttempts': 0}}"
      ]
     },
     "execution_count": 72,
     "metadata": {},
     "output_type": "execute_result"
    }
   ],
   "source": [
    "client.get_accuracy_metrics(PredictorArn=predictorArn)"
   ]
  },
  {
   "cell_type": "code",
   "execution_count": 73,
   "metadata": {},
   "outputs": [
    {
     "name": "stdout",
     "output_type": "stream",
     "text": [
      "arn:aws:forecast:ap-south-1:950788233543:forecast/cvvprojforecast\n"
     ]
    }
   ],
   "source": [
    "forecastName=\"cvvprojforecast\"\n",
    "create_forecast_response=client.create_forecast(ForecastName=forecastName,\n",
    "                                                  PredictorArn=predictorArn)\n",
    "forecastArn = create_forecast_response['ForecastArn']\n",
    "print(forecastArn)"
   ]
  },
  {
   "cell_type": "code",
   "execution_count": 74,
   "metadata": {},
   "outputs": [
    {
     "name": "stdout",
     "output_type": "stream",
     "text": [
      "At least one Forecast build is still in progress\n",
      "At least one Forecast build is still in progress\n",
      "At least one Forecast build is still in progress\n",
      "At least one Forecast build is still in progress\n",
      "At least one Forecast build is still in progress\n",
      "At least one Forecast build is still in progress\n",
      "At least one Forecast build is still in progress\n",
      "At least one Forecast build is still in progress\n",
      "At least one Forecast build is still in progress\n",
      "At least one Forecast build is still in progress\n",
      "At least one Forecast build is still in progress\n",
      "At least one Forecast build is still in progress\n",
      "At least one Forecast build is still in progress\n",
      "Build succeeded for arn:aws:forecast:ap-south-1:950788233543:forecast/cvvprojforecast\n"
     ]
    }
   ],
   "source": [
    "in_progress_forecast = [\n",
    "    create_forecast_response['ForecastArn']\n",
    "]\n",
    "\n",
    "max_time = time.time() + 3*60*60 # 3 hours\n",
    "while time.time() < max_time:\n",
    "    for forecast_arn in in_progress_forecast:\n",
    "        forecast_response = forecast.describe_forecast(\n",
    "            ForecastArn = forecast_arn\n",
    "        )\n",
    "        status = forecast_response[\"Status\"]\n",
    "        \n",
    "        if status == \"ACTIVE\":\n",
    "            print(\"Build succeeded for {}\".format(forecast_arn))\n",
    "            in_progress_forecast.remove(forecast_arn)\n",
    "        elif status == \"CREATE FAILED\":\n",
    "            print(\"Build failed for {}\".format(forecast_arn))\n",
    "            in_progress_forecast.remove(forecast_arn)\n",
    "    \n",
    "    if len(in_progress_forecast) <= 0:\n",
    "        break\n",
    "    else:\n",
    "        print(\"At least one Forecast build is still in progress\")\n",
    "        \n",
    "    time.sleep(60)"
   ]
  },
  {
   "cell_type": "code",
   "execution_count": 75,
   "metadata": {},
   "outputs": [],
   "source": [
    "forecastExportName='Export_forecasts'\n",
    "outputPath=\"s3://ethpricedataset/Gemini_ETHforecastresults\"\n",
    "forecast_export_response = forecast.create_forecast_export_job(\n",
    "                                                                ForecastExportJobName = forecastExportName,\n",
    "                                                                ForecastArn=forecastArn, \n",
    "                                                                Destination = {\n",
    "                                                                   \"S3Config\" : {\n",
    "                                                                       \"Path\":outputPath,\n",
    "                                                                       \"RoleArn\": role_arn\n",
    "                                                                   } \n",
    "                                                                }\n",
    "                                                              )"
   ]
  },
  {
   "cell_type": "code",
   "execution_count": 76,
   "metadata": {},
   "outputs": [
    {
     "name": "stdout",
     "output_type": "stream",
     "text": [
      "arn:aws:forecast:ap-south-1:950788233543:forecast-export-job/cvvprojforecast/Export_forecasts\n"
     ]
    }
   ],
   "source": [
    "forecastExportJobArn = forecast_export_response['ForecastExportJobArn']\n",
    "print(forecastExportJobArn)"
   ]
  },
  {
   "cell_type": "code",
   "execution_count": null,
   "metadata": {},
   "outputs": [],
   "source": []
  }
 ],
 "metadata": {
  "kernelspec": {
   "display_name": "conda_python3",
   "language": "python",
   "name": "conda_python3"
  },
  "language_info": {
   "codemirror_mode": {
    "name": "ipython",
    "version": 3
   },
   "file_extension": ".py",
   "mimetype": "text/x-python",
   "name": "python",
   "nbconvert_exporter": "python",
   "pygments_lexer": "ipython3",
   "version": "3.10.8"
  }
 },
 "nbformat": 4,
 "nbformat_minor": 2
}
